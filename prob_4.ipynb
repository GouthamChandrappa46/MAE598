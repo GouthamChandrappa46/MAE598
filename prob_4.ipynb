{
 "cells": [
  {
   "cell_type": "code",
   "execution_count": 4,
   "metadata": {},
   "outputs": [
    {
     "name": "stdout",
     "output_type": "stream",
     "text": [
      "Solution is: X=([-1.57329303],[1.37727404],[-0.19659334])\n"
     ]
    },
    {
     "name": "stderr",
     "output_type": "stream",
     "text": [
      "C:\\Users\\ggaut\\AppData\\Local\\Temp\\ipykernel_5772\\3861636929.py:22: DeprecationWarning: setting an array element with a sequence. This was supported in some cases where the elements are arrays with a single element. For example `np.array([1, np.array([2])], dtype=int)`. In the future this will raise the same ValueError as `np.array([1, [2]], dtype=int)`.\n",
      "  dh_ds = np.array([[(2 / 5) * x2, (2 / 25) * x3], [1, -1]], dtype=float)\n"
     ]
    }
   ],
   "source": [
    "import numpy as np\n",
    "\n",
    "\n",
    "def main(x1, x2, x3):\n",
    "    return x1 ** 2 + x2 ** 2 + x3 ** 2\n",
    "\n",
    "\n",
    "def diff_f(x1, x2, x3):\n",
    "    diff_f_ds = np.vstack((2 * x2, 2 * x3))\n",
    "    diff_f_dd = np.array([2 * x1], dtype=float)\n",
    "    return diff_f_ds, diff_f_dd\n",
    "\n",
    "\n",
    "def cons(x1, x2, x3):\n",
    "    h1 = x1 ** 2 / 4 + x2 ** 2 / 5 + x3 ** 2 / 25 - 1\n",
    "    h2 = x1 + x2 - x3\n",
    "    return h1, h2\n",
    "\n",
    "\n",
    "def diff_h_dx(x1, x2, x3):\n",
    "\n",
    "    dh_ds = np.array([[(2 / 5) * x2, (2 / 25) * x3], [1, -1]], dtype=float)\n",
    "    dh_ds_inv = np.linalg.inv(dh_ds)\n",
    "    dh_dd = np.vstack(((1 / 2) * x1, 1.))\n",
    "    return dh_ds_inv, dh_dd, dh_ds\n",
    "\n",
    "\n",
    "def diff_f_dd(x1, x2, x3):\n",
    "    df_ds, df_dd = diff_f(x1, x2, x3)\n",
    "    dh_ds_inv, dh_dd, _ = diff_h_dx(x1, x2, x3)\n",
    "    return df_dd - np.matmul(df_ds.T, np.matmul(dh_ds_inv, dh_dd))\n",
    "\n",
    "\n",
    "def solveh(x1, x2, x3):\n",
    "    error = 1e-3\n",
    "    # we are checking if the constraint is satisfied?\n",
    "    h1, h2 = cons(x1, x2, x3)\n",
    "    h = np.vstack((h1, h2))\n",
    "    h_norm = np.linalg.norm(h)\n",
    "    # assume the pseudo inverse\n",
    "    while h_norm >= error:\n",
    "        dh_inv, _, dh = diff_h_dx(x1, x2, x3)\n",
    "        Lambda = 1\n",
    "        ds = np.matmul(dh_inv, h)\n",
    "        x2 = x2 - ds[0]\n",
    "        x3 = x3 - ds[1]\n",
    "        h1, h2 = cons(x1, x2, x3)\n",
    "        h = np.vstack((h1, h2))\n",
    "        h_norm = np.linalg.norm(h)\n",
    "    return x1, x2, x3, h_norm\n",
    "\n",
    "\n",
    "def l_s(x1, x2, x3):\n",
    "    a = 1.  # initialize step size\n",
    "    df = diff_f_dd(x1, x2, x3)\n",
    "\n",
    "    def phi(a, x1, x2, x3, df): return main(x1, x2, x3) - a * 0.3 * \\\n",
    "        np.matmul(df, df.T)  # define phi as a search criterion\n",
    "\n",
    "    def f_a(x1, x2, x3, a):\n",
    "        df = diff_f_dd(x1, x2, x3)\n",
    "        dh_ds_inv, dh_dd, _ = diff_h_dx(x1, x2, x3)\n",
    "\n",
    "        x1 = x1 - a * df.flatten()\n",
    "        ds = np.matmul(np.matmul(dh_ds_inv, dh_dd), df.T).flatten()\n",
    "        x2 = x2 + a * ds[0]\n",
    "        x3 = x3 + a * ds[1]\n",
    "        return main(x1, x2, x3)\n",
    "\n",
    "    while phi(a, x1, x2, x3, df) < f_a(x1, x2, x3, a):\n",
    "        a = 0.5 * a\n",
    "        df = diff_f_dd(x1, x2, x3)\n",
    "    return a\n",
    "\n",
    "\n",
    "eps = 1e-3  # criteria for termination\n",
    "x1 = np.array([1.0], dtype=float)\n",
    "x2 = np.array([2.0], dtype=float)\n",
    "x3 = np.array([3.0], dtype=float)\n",
    "iter = 0 \n",
    "\n",
    "x1, x2, x3, _ = solveh(x1, x2, x3)\n",
    "\n",
    "df_dd_norm = np.linalg.norm(diff_f_dd(x1, x2, x3))\n",
    "\n",
    "while df_dd_norm >= eps:  \n",
    "    a = l_s(x1, x2, x3)\n",
    "    x1 = x1 - a * diff_f_dd(x1, x2, x3).flatten()\n",
    "    dh_ds_inv, dh_dd, dh = diff_h_dx(x1, x2, x3)\n",
    "    ds = a * np.matmul(np.matmul(dh_ds_inv, dh_dd),\n",
    "                       diff_f_dd(x1, x2, x3).T).flatten()\n",
    "    x2 = x2 + ds[0]\n",
    "    x3 = x3 + ds[1]\n",
    "    x1, x2, x3, _ = solveh(x1, x2, x3)\n",
    "    df_dd_norm = np.linalg.norm(diff_f_dd(x1, x2, x3))\n",
    "\n",
    "print('Solution is: X=({},{},{})'.format(x1, x2, x3))\n"
   ]
  }
 ],
 "metadata": {
  "kernelspec": {
   "display_name": "Python 3.11.0 64-bit",
   "language": "python",
   "name": "python3"
  },
  "language_info": {
   "codemirror_mode": {
    "name": "ipython",
    "version": 3
   },
   "file_extension": ".py",
   "mimetype": "text/x-python",
   "name": "python",
   "nbconvert_exporter": "python",
   "pygments_lexer": "ipython3",
   "version": "3.11.0"
  },
  "orig_nbformat": 4,
  "vscode": {
   "interpreter": {
    "hash": "359b119a41b2841395661245bc3fc6a74807582e1e9b63be7e384dcca163e66e"
   }
  }
 },
 "nbformat": 4,
 "nbformat_minor": 2
}
